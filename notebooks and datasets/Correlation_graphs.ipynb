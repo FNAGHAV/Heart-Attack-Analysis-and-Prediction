{
 "cells": [
  {
   "cell_type": "code",
   "execution_count": 2,
   "id": "79703c65-3521-43ab-9c0b-232e73b00855",
   "metadata": {},
   "outputs": [],
   "source": [
    "import pandas as pd\n",
    "import plotly.express as px\n",
    "\n",
    "# Load the results data\n",
    "results_df = pd.read_csv(\"comorbidity_results.csv\")\n",
    "\n",
    "# Convert 0, 1 to Yes, No in the relevant columns\n",
    "results_df['level'] = results_df['level'].replace({0: 'No', 1: 'Yes'})\n",
    "\n",
    "# Define a dictionary for color mapping\n",
    "color_discrete_map = {\n",
    "    'Yes': 'green',\n",
    "    'No': 'red'\n",
    "}\n",
    "\n",
    "# Function to create and save interactive plots\n",
    "def create_interactive_plot(df, comorbidity):\n",
    "    # Filter data for the specific comorbidity\n",
    "    comorbidity_df = df[df['comorbidity'] == comorbidity].copy()\n",
    "\n",
    "    # Create hover information\n",
    "    comorbidity_df['hover_info'] = (f'Chi2: {comorbidity_df[\"chi2\"].iloc[0]:.2f}<br>' +\n",
    "                                    f'p-value: {comorbidity_df[\"p_value\"].iloc[0]:.5f}')\n",
    "    \n",
    "    # Create interactive bar plot with Plotly\n",
    "    fig = px.bar(comorbidity_df, x='level', y='mean', error_y='ci', text='mean', color='level',\n",
    "                 color_discrete_map=color_discrete_map,\n",
    "                 labels={'mean': 'Proportion of Heart Attacks', 'level': comorbidity},\n",
    "                 title=f'Proportion of Heart Attacks by {comorbidity}')\n",
    "\n",
    "    fig.update_traces(texttemplate='%{text:.2f}', textposition='outside')\n",
    "    fig.update_traces(hovertemplate=comorbidity_df['hover_info'].tolist())\n",
    "\n",
    "    fig.update_layout(yaxis_range=[0, 1], showlegend=False)\n",
    "\n",
    "    # Save plot to HTML file\n",
    "    fig.write_html(f'{comorbidity}Plot.html')\n",
    "\n",
    "# Generate and save interactive plots for each comorbidity\n",
    "for comorbidity in results_df['comorbidity'].unique():\n",
    "    create_interactive_plot(results_df, comorbidity)\n"
   ]
  },
  {
   "cell_type": "code",
   "execution_count": null,
   "id": "84db740f-6786-482f-9847-c66efb4c449f",
   "metadata": {},
   "outputs": [],
   "source": []
  }
 ],
 "metadata": {
  "kernelspec": {
   "display_name": "Python 3 (ipykernel)",
   "language": "python",
   "name": "python3"
  },
  "language_info": {
   "codemirror_mode": {
    "name": "ipython",
    "version": 3
   },
   "file_extension": ".py",
   "mimetype": "text/x-python",
   "name": "python",
   "nbconvert_exporter": "python",
   "pygments_lexer": "ipython3",
   "version": "3.10.13"
  }
 },
 "nbformat": 4,
 "nbformat_minor": 5
}
